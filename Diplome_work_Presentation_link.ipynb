{
  "nbformat": 4,
  "nbformat_minor": 0,
  "metadata": {
    "colab": {
      "provenance": [],
      "authorship_tag": "ABX9TyMSl6fzaLfcwBuryZwU+hjl",
      "include_colab_link": true
    },
    "kernelspec": {
      "name": "python3",
      "display_name": "Python 3"
    },
    "language_info": {
      "name": "python"
    }
  },
  "cells": [
    {
      "cell_type": "markdown",
      "metadata": {
        "id": "view-in-github",
        "colab_type": "text"
      },
      "source": [
        "<a href=\"https://colab.research.google.com/github/Kostratana/diplome_computer_vision_airport/blob/main/Diplome_work_Presentation_link.ipynb\" target=\"_parent\"><img src=\"https://colab.research.google.com/assets/colab-badge.svg\" alt=\"Open In Colab\"/></a>"
      ]
    },
    {
      "cell_type": "markdown",
      "source": [
        "Google drive presentation link for dimplome work computer vision\n",
        "https://drive.google.com/file/d/1motDf-SfhQhxyfB5uB6vq89G-zFfp6Oy/view?usp=sharing"
      ],
      "metadata": {
        "id": "owL3xgfRKbHP"
      }
    }
  ]
}